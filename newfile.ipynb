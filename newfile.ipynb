{
 "cells": [
  {
   "cell_type": "code",
   "execution_count": 1,
   "metadata": {},
   "outputs": [
    {
     "data": {
      "text/plain": [
       "'single'"
      ]
     },
     "execution_count": 1,
     "metadata": {},
     "output_type": "execute_result"
    }
   ],
   "source": [
    "'single'\n"
   ]
  },
  {
   "cell_type": "code",
   "execution_count": 2,
   "metadata": {},
   "outputs": [
    {
     "data": {
      "text/plain": [
       "'double quotes'"
      ]
     },
     "execution_count": 2,
     "metadata": {},
     "output_type": "execute_result"
    }
   ],
   "source": [
    "\"double quotes\""
   ]
  },
  {
   "cell_type": "code",
   "execution_count": 3,
   "metadata": {},
   "outputs": [
    {
     "data": {
      "text/plain": [
       "'I\"m a big boy'"
      ]
     },
     "execution_count": 3,
     "metadata": {},
     "output_type": "execute_result"
    }
   ],
   "source": [
    "'I\"m a big boy'"
   ]
  },
  {
   "cell_type": "code",
   "execution_count": 4,
   "metadata": {},
   "outputs": [
    {
     "data": {
      "text/plain": [
       "\"Now I'm a big boy\""
      ]
     },
     "execution_count": 4,
     "metadata": {},
     "output_type": "execute_result"
    }
   ],
   "source": [
    "\"Now I'm a big boy\""
   ]
  },
  {
   "cell_type": "code",
   "execution_count": 5,
   "metadata": {},
   "outputs": [
    {
     "name": "stdout",
     "output_type": "stream",
     "text": [
      "Hello World 1\n",
      "He       ld 1\n",
      "Hell     ld 1\n",
      "Hello    ld 1\n",
      "Hello W  ld 1\n",
      "Hello Wo ld 1\n"
     ]
    }
   ],
   "source": [
    "print('Hello World 1')\n",
    "print('He       ld 1')\n",
    "print('Hell     ld 1')\n",
    "print('Hello    ld 1')\n",
    "print('Hello W  ld 1')\n",
    "print('Hello Wo ld 1')"
   ]
  },
  {
   "cell_type": "markdown",
   "metadata": {},
   "source": [
    "Assignmet Answer\n",
    "\n",
    "The main differnce between Tuples and list is that items from lists \n",
    "can be modified I could add or delete items from a list. \n",
    "I could modify the list in any sort of way I would want, however, \n",
    "at Tuples you can not add or delete items. Tuples are immutable, people \n",
    "use tuples for data that is never going to be changed."
   ]
  }
 ],
 "metadata": {
  "kernelspec": {
   "display_name": "Python 3.10.4 ('nuesaPV': venv)",
   "language": "python",
   "name": "python3"
  },
  "language_info": {
   "codemirror_mode": {
    "name": "ipython",
    "version": 3
   },
   "file_extension": ".py",
   "mimetype": "text/x-python",
   "name": "python",
   "nbconvert_exporter": "python",
   "pygments_lexer": "ipython3",
   "version": "3.10.4"
  },
  "orig_nbformat": 4,
  "vscode": {
   "interpreter": {
    "hash": "ae9f12b2f16abc4551af833df4ad9d9a93a4cea697e1b69dbf11066b6a1e4638"
   }
  }
 },
 "nbformat": 4,
 "nbformat_minor": 2
}
