{
 "cells": [
  {
   "cell_type": "code",
   "execution_count": 2,
   "metadata": {},
   "outputs": [
    {
     "name": "stdout",
     "output_type": "stream",
     "text": [
      "I did it👌 0\n",
      "I did it👌 1\n",
      "I did it👌 2\n",
      "I did it👌 3\n",
      "I did it👌 4\n",
      "I did it👌 5\n",
      "I did it👌 6\n",
      "I did it👌 7\n",
      "I did it👌 8\n",
      "I did it👌 9\n"
     ]
    }
   ],
   "source": [
    "x = 0\n",
    "while x < 10:\n",
    "    print('I did it👌', x)\n",
    "    x+=1"
   ]
  },
  {
   "cell_type": "code",
   "execution_count": 5,
   "metadata": {},
   "outputs": [
    {
     "name": "stdout",
     "output_type": "stream",
     "text": [
      "I'll try again\n"
     ]
    }
   ],
   "source": [
    "x = 10\n",
    "while x < 10:\n",
    "    print('I did it👌', x)\n",
    "    x+=1\n",
    "else:\n",
    "    print('I\\'ll try again')"
   ]
  },
  {
   "cell_type": "code",
   "execution_count": 9,
   "metadata": {},
   "outputs": [
    {
     "name": "stdout",
     "output_type": "stream",
     "text": [
      "I did it👌 0\n",
      "I did it again👌 1\n",
      "I did it👌 1\n",
      "I did it again👌 2\n",
      "I did it👌 2\n",
      "I did it again👌 3\n",
      "triplets after\n",
      "I did it👌 3\n",
      "I did it again👌 4\n",
      "I did it👌 4\n",
      "I did it again👌 5\n",
      "I did it👌 5\n",
      "I did it again👌 6\n",
      "I did it👌 6\n",
      "I did it again👌 7\n",
      "I did it👌 7\n",
      "I did it again👌 8\n",
      "I did it👌 8\n",
      "I did it again👌 9\n",
      "I did it👌 9\n",
      "I did it again👌 10\n"
     ]
    }
   ],
   "source": [
    "x = 0\n",
    "while x < 10:\n",
    "    print('I did it👌', x)\n",
    "    x+=1\n",
    "    print('I did it again👌', x)\n",
    "    if x==3:\n",
    "        print(\"triplets after\")"
   ]
  },
  {
   "cell_type": "code",
   "execution_count": 1,
   "metadata": {},
   "outputs": [
    {
     "name": "stdout",
     "output_type": "stream",
     "text": [
      "I did it👌 1\n",
      "I did it👌 2\n",
      "Haha, this is number 3\n",
      "I did it👌 4\n"
     ]
    }
   ],
   "source": [
    "x = 0\n",
    "while x < 10:\n",
    "    x+=1\n",
    "    if x==3:\n",
    "        print(\"Haha, this is number\", x)\n",
    "        continue\n",
    "    if x==5:\n",
    "        break\n",
    "    print('I did it👌', x)"
   ]
  },
  {
   "cell_type": "code",
   "execution_count": 17,
   "metadata": {},
   "outputs": [
    {
     "name": "stdout",
     "output_type": "stream",
     "text": [
      "May\n"
     ]
    }
   ],
   "source": [
    "months = list(range(1, 13))\n",
    "\n",
    "for month in months:\n",
    "    match month:\n",
    "        case 5:\n",
    "            print('May')"
   ]
  },
  {
   "cell_type": "code",
   "execution_count": 18,
   "metadata": {},
   "outputs": [
    {
     "ename": "TypeError",
     "evalue": "'<' not supported between instances of 'int' and 'str'",
     "output_type": "error",
     "traceback": [
      "\u001b[1;31m---------------------------------------------------------------------------\u001b[0m",
      "\u001b[1;31mTypeError\u001b[0m                                 Traceback (most recent call last)",
      "\u001b[1;32mc:\\Users\\jeanc\\Desktop\\nuesa python classes]\\welcomeClass\\statements.ipynb Cell 6\u001b[0m in \u001b[0;36m<cell line: 1>\u001b[1;34m()\u001b[0m\n\u001b[1;32m----> <a href='vscode-notebook-cell:/c%3A/Users/jeanc/Desktop/nuesa%20python%20classes%5D/welcomeClass/statements.ipynb#W5sZmlsZQ%3D%3D?line=0'>1</a>\u001b[0m \u001b[39msorted\u001b[39;49m([\u001b[39m'\u001b[39;49m\u001b[39mc\u001b[39;49m\u001b[39m'\u001b[39;49m, \u001b[39m1\u001b[39;49m, \u001b[39m0\u001b[39;49m, \u001b[39m'\u001b[39;49m\u001b[39m1\u001b[39;49m\u001b[39m'\u001b[39;49m])\n",
      "\u001b[1;31mTypeError\u001b[0m: '<' not supported between instances of 'int' and 'str'"
     ]
    }
   ],
   "source": [
    "sorted(['c', 1, 0, '1'])"
   ]
  },
  {
   "cell_type": "code",
   "execution_count": null,
   "metadata": {},
   "outputs": [],
   "source": []
  }
 ],
 "metadata": {
  "kernelspec": {
   "display_name": "Python 3.10.4 ('venv': venv)",
   "language": "python",
   "name": "python3"
  },
  "language_info": {
   "codemirror_mode": {
    "name": "ipython",
    "version": 3
   },
   "file_extension": ".py",
   "mimetype": "text/x-python",
   "name": "python",
   "nbconvert_exporter": "python",
   "pygments_lexer": "ipython3",
   "version": "3.10.4"
  },
  "orig_nbformat": 4,
  "vscode": {
   "interpreter": {
    "hash": "59e8c7bc885917e6fd90abc74651fcb9a54d8926471a31d2a510afa2809116c8"
   }
  }
 },
 "nbformat": 4,
 "nbformat_minor": 2
}
